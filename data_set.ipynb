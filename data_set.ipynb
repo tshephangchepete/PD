{
 "cells": [
  {
   "cell_type": "code",
   "execution_count": 1,
   "metadata": {},
   "outputs": [],
   "source": [
    "import pandas as pd\n",
    "import numpy as np\n",
    "import random\n",
    "from datetime import datetime, timedelta\n",
    "from faker import Faker"
   ]
  },
  {
   "cell_type": "code",
   "execution_count": 2,
   "metadata": {},
   "outputs": [],
   "source": [
    "fake = Faker()"
   ]
  },
  {
   "cell_type": "code",
   "execution_count": 3,
   "metadata": {},
   "outputs": [],
   "source": [
    "TOTAL_ROWS = 500000\n",
    "PURCHASE_RATIO = 0.85  \n",
    "ERROR_RATIO = 0.05     \n",
    "VIEW_RATIO = 0.10 "
   ]
  },
  {
   "cell_type": "code",
   "execution_count": 4,
   "metadata": {},
   "outputs": [],
   "source": [
    "assert (PURCHASE_RATIO + ERROR_RATIO + VIEW_RATIO) == 1.0"
   ]
  },
  {
   "cell_type": "code",
   "execution_count": 5,
   "metadata": {},
   "outputs": [],
   "source": [
    "uk_region_countries = ['England', 'Ireland', 'Wales', 'Netherlands', 'Scotland', 'Germany', 'Belgium', 'France']"
   ]
  },
  {
   "cell_type": "code",
   "execution_count": 6,
   "metadata": {},
   "outputs": [],
   "source": [
    "products = {\n",
    "    'AI Assistant Pro': {'unit_price': 500.00, 'cost': 200.00, 'category': 'Software', 'performance': 0.5},  \n",
    "    'AI Assistant Enterprise': {'unit_price': 1300.00, 'cost': 400.00, 'category': 'Software', 'performance': 1.8},  \n",
    "    'Rapid Prototyping Basic': {'unit_price': 800.00, 'cost': 350.00, 'category': 'Service', 'performance': 0.3},  \n",
    "    'Rapid Prototyping Advanced': {'unit_price': 2000.00, 'cost': 800.00, 'category': 'Service', 'performance': 2.5}, \n",
    "    'DEX Analytics': {'unit_price': 600.00, 'cost': 250.00, 'category': 'Software', 'performance': 1.0},  \n",
    "    'Employee Experience Suite': {'unit_price': 2500.00, 'cost': 1000.00, 'category': 'Bundle', 'performance': 1.2}  \n",
    "}"
   ]
  },
  {
   "cell_type": "code",
   "execution_count": 7,
   "metadata": {},
   "outputs": [],
   "source": [
    "sales_team = {\n",
    "    'James Wilson': {'performance': 0.7},\n",
    "    'Sarah Thompson': {'performance': 2.0},\n",
    "    'Michael OConnor': {'performance': 1.6},\n",
    "    'Emily Chen': {'performance': 1.4},\n",
    "    'David MacLeod': {'performance': 1.0},\n",
    "    'Priya Patel': {'performance': 0.7},\n",
    "    'Robert Gallagher': {'performance': 0.3},\n",
    "    'Emma Walsh': {'performance': 2.4}\n",
    "}"
   ]
  },
  {
   "cell_type": "code",
   "execution_count": 8,
   "metadata": {},
   "outputs": [],
   "source": [
    "sales_channels = {\n",
    "    'Website': {'weight': 0.3, 'conversion': 0.15},\n",
    "    'Email': {'weight': 0.2, 'conversion': 0.25},\n",
    "    'Social Media': {'weight': 0.1, 'conversion': 0.10},\n",
    "    'Referral': {'weight': 0.25, 'conversion': 0.30},\n",
    "    'Direct': {'weight': 0.15, 'conversion': 0.20}\n",
    "}"
   ]
  },
  {
   "cell_type": "code",
   "execution_count": 9,
   "metadata": {},
   "outputs": [],
   "source": [
    "error_messages = {\n",
    "    400: \"Bad Request - Invalid Input\",\n",
    "    403: \"Forbidden - Access Denied\",\n",
    "    404: \"Page Not Found\",\n",
    "    500: \"Internal Server Error\",\n",
    "    302: \"Temporary Redirect\",\n",
    "    503: \"Service Unavailable\"\n",
    "}"
   ]
  },
  {
   "cell_type": "code",
   "execution_count": 10,
   "metadata": {},
   "outputs": [],
   "source": [
    "log_data = []\n",
    "start_date = datetime(2018, 1, 1)\n",
    "end_date = datetime(2023, 12, 31)\n",
    "date_range = (end_date - start_date).days"
   ]
  },
  {
   "cell_type": "code",
   "execution_count": 11,
   "metadata": {},
   "outputs": [],
   "source": [
    "for _ in range(TOTAL_ROWS):\n",
    "    # Generate random timestamp between 2018-2023\n",
    "    random_day = random.randint(0, date_range)\n",
    "    random_second = random.randint(0, 86400)\n",
    "    timestamp = (start_date + timedelta(days=random_day, seconds=random_second)).strftime('%Y-%m-%d %H:%M:%S')\n",
    "    \n",
    "    # Determine log type based on ratios\n",
    "    log_type = random.choices(\n",
    "        ['PURCHASE', 'ERROR', 'VIEW'],\n",
    "        weights=[PURCHASE_RATIO, ERROR_RATIO, VIEW_RATIO],\n",
    "        k=1\n",
    "    )[0]\n",
    "    \n",
    "    # Select country weighted towards UK and Ireland\n",
    "    country = random.choices(\n",
    "        uk_region_countries,\n",
    "        weights=[0.05, 0.05, 0.10, 0.20, 0.10, 0.15, 0.25, 0.10],\n",
    "        k=1\n",
    "    )[0]\n",
    "    \n",
    "    ip = fake.ipv4()\n",
    "    method = random.choice(['GET', 'POST'])\n",
    "    \n",
    "    if log_type == 'PURCHASE':\n",
    "        product_name = random.choice(list(products.keys()))\n",
    "        product_data = products[product_name]\n",
    "        \n",
    "        # Determine quantity with higher probability of purchases (at least 1)\n",
    "        quantity_options = [1, 2, 3, 4, 5]\n",
    "        quantity_weights = [0.4, 0.3, 0.15, 0.1, 0.05]\n",
    "        quantity = random.choices(quantity_options, weights=quantity_weights, k=1)[0]\n",
    "        \n",
    "        unit_price = product_data['unit_price']\n",
    "        total = round(unit_price * quantity, 2)\n",
    "        production_cost = round(product_data['cost'] * quantity, 2)\n",
    "        \n",
    "        # Calculate profit strictly as Total Price - Production Cost\n",
    "        profit = round(total - production_cost, 2)\n",
    "        \n",
    "        # Randomly assign sales rep (performance does not affect profit)\n",
    "        sales_rep = random.choice(list(sales_team.keys()))\n",
    "        \n",
    "        # Select sales channel weighted by their weights\n",
    "        channel = random.choices(\n",
    "            list(sales_channels.keys()),\n",
    "            weights=[c['weight'] for c in sales_channels.values()],\n",
    "            k=1\n",
    "        )[0]\n",
    "        \n",
    "        status = 200\n",
    "        action = 'PURCHASE'\n",
    "        endpoint = f\"/purchase/confirm/{product_name.lower().replace(' ', '-')}\"\n",
    "    \n",
    "    elif log_type == 'ERROR':\n",
    "        error_code = random.choice(list(error_messages.keys()))\n",
    "        status = error_code\n",
    "        product_name = ''\n",
    "        quantity = 0\n",
    "        unit_price = 0.00\n",
    "        total = 0.00\n",
    "        production_cost = 0.00\n",
    "        profit = 0.00\n",
    "        sales_rep = ''\n",
    "        channel = ''\n",
    "        action = error_messages[error_code]\n",
    "        endpoint = random.choice([\n",
    "            '/index.html', '/products', '/checkout',\n",
    "            '/contact', '/about', '/admin'\n",
    "        ])\n",
    "    \n",
    "    else:  # VIEW\n",
    "        status = random.choices([200, 304], weights=[0.9, 0.1], k=1)[0]\n",
    "        product_name = ''\n",
    "        quantity = 0\n",
    "        unit_price = 0.00\n",
    "        total = 0.00\n",
    "        production_cost = 0.00\n",
    "        profit = 0.00\n",
    "        sales_rep = ''\n",
    "        channel = ''\n",
    "        action = 'BROWSE'\n",
    "        endpoint = random.choice([\n",
    "            '/index.html', '/about', '/contact',\n",
    "            '/resources', '/blog', '/events'\n",
    "        ])\n",
    "    \n",
    "    log_data.append([\n",
    "        timestamp, ip, country, method, endpoint, \n",
    "        status, product_name, quantity, unit_price,\n",
    "        total, production_cost, profit, sales_rep, channel, action\n",
    "    ])"
   ]
  },
  {
   "cell_type": "code",
   "execution_count": 12,
   "metadata": {},
   "outputs": [],
   "source": [
    "columns = [\n",
    "    'Timestamp', 'IP_Address', 'Country', 'Method', 'Endpoint',\n",
    "    'Status_Code', 'Product', 'Quantity', 'Unit_Price',\n",
    "    'Total_Price', 'Cost', 'Profit', 'Sales_Rep', 'Sales_Channel', 'Action'\n",
    "]"
   ]
  },
  {
   "cell_type": "code",
   "execution_count": 13,
   "metadata": {},
   "outputs": [],
   "source": [
    "df = pd.DataFrame(log_data, columns=columns)"
   ]
  },
  {
   "cell_type": "code",
   "execution_count": 14,
   "metadata": {},
   "outputs": [],
   "source": [
    "df.loc[df['Status_Code'] != 200, ['Quantity', 'Unit_Price', 'Total_Price', 'Cost', 'Profit']] = 0"
   ]
  },
  {
   "cell_type": "code",
   "execution_count": 15,
   "metadata": {},
   "outputs": [],
   "source": [
    "df.loc[df['Status_Code'] != 200, ['Quantity', 'Unit_Price', 'Total_Price', 'Cost', 'Profit']] = 0\n",
    "financial_cols = ['Unit_Price', 'Total_Price', 'Cost', 'Profit']\n",
    "df[financial_cols] = df[financial_cols].round(2)"
   ]
  },
  {
   "cell_type": "code",
   "execution_count": 16,
   "metadata": {},
   "outputs": [],
   "source": [
    "df.to_csv(\"//Users//tshephangchepete//Downloads//PD//sales_dataset.csv\", index=False)"
   ]
  }
 ],
 "metadata": {
  "kernelspec": {
   "display_name": "Python 3",
   "language": "python",
   "name": "python3"
  },
  "language_info": {
   "codemirror_mode": {
    "name": "ipython",
    "version": 3
   },
   "file_extension": ".py",
   "mimetype": "text/x-python",
   "name": "python",
   "nbconvert_exporter": "python",
   "pygments_lexer": "ipython3",
   "version": "3.13.2"
  }
 },
 "nbformat": 4,
 "nbformat_minor": 2
}
